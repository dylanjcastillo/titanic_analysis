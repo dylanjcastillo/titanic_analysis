{
 "cells": [
  {
   "cell_type": "markdown",
   "metadata": {},
   "source": [
    "# Women and children first? An exploratory data analysis of the Titanic's casualties\n",
    "\n",
    "\"Women and children first\" is a code of conduct whereby the lives of women and children are to be saved first in a life-threatening situation. However a study by study the Uppsala University in 2012, that makes a reviews 19th-century shipwreck narratives does not find strong evidence for this to be the case. Based on that premise, this notebook consists of a descriptive analysis of the Kaggle's Titanic Dataset trying to offer some insights to solve the following question: \"Were women and children more likely to survive than males?\""
   ]
  },
  {
   "cell_type": "markdown",
   "metadata": {},
   "source": [
    "## Basic settings and reading the data \n",
    "The first step was to import the libraries needed for the analysis:"
   ]
  },
  {
   "cell_type": "code",
   "execution_count": 3,
   "metadata": {
    "collapsed": false
   },
   "outputs": [],
   "source": [
    "# Import the libraries that will be used during the analysis\n",
    "import pandas as pd\n",
    "import numpy as np\n",
    "import matplotlib as plt\n",
    "import seaborn as sns"
   ]
  },
  {
   "cell_type": "markdown",
   "metadata": {},
   "source": [
    "Secondly, I decided to establish some basic settings for the visualizations:"
   ]
  },
  {
   "cell_type": "code",
   "execution_count": 4,
   "metadata": {
    "collapsed": false
   },
   "outputs": [],
   "source": [
    "# General settings for the visualizations\n",
    "sns.set(context = 'notebook', style = 'whitegrid', rc = {'axes.grid': False, \n",
    "                                                         'grid.color': '1',\n",
    "                                                         'text.color': '.2',\n",
    "                                                         'legend.frameon': True,\n",
    "                                                         'axes.axisbelow': True,\n",
    "                                                         'axes.edgecolor': '.8',\n",
    "                                                         'axes.facecolor': 'white',\n",
    "                                                         'axes.grid': False,\n",
    "                                                         'axes.labelcolor': '.4',\n",
    "                                                         'axes.linewidth': 1.0,\n",
    "                                                         'xtick.color': '.4',\n",
    "                                                         'ytick.color': '.4'})\n",
    "sns.set_palette([\"#1b85b8\", \"#5a5255\", \"#559e83\", \"#ae5a41\", \"#c3cb71\"])\n",
    "%matplotlib inline"
   ]
  },
  {
   "cell_type": "markdown",
   "metadata": {},
   "source": [
    "Next, I read the *.csv* file and took a look at the variables that composed it and the descriptions available for the them in Kaggle:"
   ]
  },
  {
   "cell_type": "code",
   "execution_count": 5,
   "metadata": {
    "collapsed": false
   },
   "outputs": [],
   "source": [
    "# Read the dataset\n",
    "titanic_df = pd.read_csv('titanic_data.csv')\n",
    "\n",
    "# Variables and their corresponding data types\n",
    "titanic_dtypes = titanic_df.dtypes # Shown in the table below "
   ]
  },
  {
   "cell_type": "markdown",
   "metadata": {},
   "source": [
    "The dataset included the following 12 variables with their respective description and data type:"
   ]
  },
  {
   "cell_type": "markdown",
   "metadata": {},
   "source": [
    " Variable   | Description          | Type\n",
    "------------|----------------------|-------------\n",
    "PassengerId |    Passenger internal ID number | int64\n",
    "Survived    |    Survival (0 = No; 1 = Yes) | int64\n",
    "Pclass      |    Passenger Class (1 = 1st; 2 = 2nd; 3 = 3rd) | int64\n",
    "Name        |    Name | object\n",
    "Sex         |    Sex | object\n",
    "Age         |    Age | float64\n",
    "Sibsp       |    Number of Siblings/Spouses Aboard | int64\n",
    "Parch       |    Number of Parents/Children Aboard | int64\n",
    "Ticket      |    Ticket Number | object\n",
    "Fare        |    Passenger Fare |float64\n",
    "Cabin       |    Cabin | object\n",
    "Embarked    |    Port of Embarkation (C = Cherbourg; Q = Queenstown; S = Southampton) | object"
   ]
  },
  {
   "cell_type": "markdown",
   "metadata": {},
   "source": [
    "## Data filtering and summary statistics\n",
    "\n",
    "Once the data was read I did some cleaning of it. First, based on the questions presented previously there were some variables that I decided to left out as they were not relevant for the analysis. The variables kept were the following 7: *Survived, Pclass, Sex, Age, SibSp, Parch and Fare*."
   ]
  },
  {
   "cell_type": "code",
   "execution_count": 6,
   "metadata": {
    "collapsed": false
   },
   "outputs": [],
   "source": [
    "titanic_df = titanic_df[['Survived', 'Pclass', 'Sex', 'Age', 'SibSp', 'Parch', 'Fare']]"
   ]
  },
  {
   "cell_type": "markdown",
   "metadata": {},
   "source": [
    "After that, I decided to take a look at the structure of the dataset by counting the number of observations (rows), looking at the first and last rows of the dataset (to see if the data was read correctly) and generating summary statistics of the numerical variables (including their correlations):"
   ]
  },
  {
   "cell_type": "code",
   "execution_count": 7,
   "metadata": {
    "collapsed": false
   },
   "outputs": [
    {
     "data": {
      "text/plain": [
       "(891, 7)"
      ]
     },
     "execution_count": 7,
     "metadata": {},
     "output_type": "execute_result"
    }
   ],
   "source": [
    "# Number of rows of the dataset\n",
    "titanic_df.shape"
   ]
  },
  {
   "cell_type": "code",
   "execution_count": 8,
   "metadata": {
    "collapsed": false
   },
   "outputs": [
    {
     "data": {
      "text/html": [
       "<div>\n",
       "<table border=\"1\" class=\"dataframe\">\n",
       "  <thead>\n",
       "    <tr style=\"text-align: right;\">\n",
       "      <th></th>\n",
       "      <th>Survived</th>\n",
       "      <th>Pclass</th>\n",
       "      <th>Sex</th>\n",
       "      <th>Age</th>\n",
       "      <th>SibSp</th>\n",
       "      <th>Parch</th>\n",
       "      <th>Fare</th>\n",
       "    </tr>\n",
       "  </thead>\n",
       "  <tbody>\n",
       "    <tr>\n",
       "      <th>0</th>\n",
       "      <td>0</td>\n",
       "      <td>3</td>\n",
       "      <td>male</td>\n",
       "      <td>22.0</td>\n",
       "      <td>1</td>\n",
       "      <td>0</td>\n",
       "      <td>7.2500</td>\n",
       "    </tr>\n",
       "    <tr>\n",
       "      <th>1</th>\n",
       "      <td>1</td>\n",
       "      <td>1</td>\n",
       "      <td>female</td>\n",
       "      <td>38.0</td>\n",
       "      <td>1</td>\n",
       "      <td>0</td>\n",
       "      <td>71.2833</td>\n",
       "    </tr>\n",
       "    <tr>\n",
       "      <th>2</th>\n",
       "      <td>1</td>\n",
       "      <td>3</td>\n",
       "      <td>female</td>\n",
       "      <td>26.0</td>\n",
       "      <td>0</td>\n",
       "      <td>0</td>\n",
       "      <td>7.9250</td>\n",
       "    </tr>\n",
       "    <tr>\n",
       "      <th>3</th>\n",
       "      <td>1</td>\n",
       "      <td>1</td>\n",
       "      <td>female</td>\n",
       "      <td>35.0</td>\n",
       "      <td>1</td>\n",
       "      <td>0</td>\n",
       "      <td>53.1000</td>\n",
       "    </tr>\n",
       "    <tr>\n",
       "      <th>4</th>\n",
       "      <td>0</td>\n",
       "      <td>3</td>\n",
       "      <td>male</td>\n",
       "      <td>35.0</td>\n",
       "      <td>0</td>\n",
       "      <td>0</td>\n",
       "      <td>8.0500</td>\n",
       "    </tr>\n",
       "  </tbody>\n",
       "</table>\n",
       "</div>"
      ],
      "text/plain": [
       "   Survived  Pclass     Sex   Age  SibSp  Parch     Fare\n",
       "0         0       3    male  22.0      1      0   7.2500\n",
       "1         1       1  female  38.0      1      0  71.2833\n",
       "2         1       3  female  26.0      0      0   7.9250\n",
       "3         1       1  female  35.0      1      0  53.1000\n",
       "4         0       3    male  35.0      0      0   8.0500"
      ]
     },
     "execution_count": 8,
     "metadata": {},
     "output_type": "execute_result"
    }
   ],
   "source": [
    "# Top of the dataset\n",
    "titanic_df.head()"
   ]
  },
  {
   "cell_type": "code",
   "execution_count": 9,
   "metadata": {
    "collapsed": false
   },
   "outputs": [
    {
     "data": {
      "text/html": [
       "<div>\n",
       "<table border=\"1\" class=\"dataframe\">\n",
       "  <thead>\n",
       "    <tr style=\"text-align: right;\">\n",
       "      <th></th>\n",
       "      <th>Survived</th>\n",
       "      <th>Pclass</th>\n",
       "      <th>Sex</th>\n",
       "      <th>Age</th>\n",
       "      <th>SibSp</th>\n",
       "      <th>Parch</th>\n",
       "      <th>Fare</th>\n",
       "    </tr>\n",
       "  </thead>\n",
       "  <tbody>\n",
       "    <tr>\n",
       "      <th>886</th>\n",
       "      <td>0</td>\n",
       "      <td>2</td>\n",
       "      <td>male</td>\n",
       "      <td>27.0</td>\n",
       "      <td>0</td>\n",
       "      <td>0</td>\n",
       "      <td>13.00</td>\n",
       "    </tr>\n",
       "    <tr>\n",
       "      <th>887</th>\n",
       "      <td>1</td>\n",
       "      <td>1</td>\n",
       "      <td>female</td>\n",
       "      <td>19.0</td>\n",
       "      <td>0</td>\n",
       "      <td>0</td>\n",
       "      <td>30.00</td>\n",
       "    </tr>\n",
       "    <tr>\n",
       "      <th>888</th>\n",
       "      <td>0</td>\n",
       "      <td>3</td>\n",
       "      <td>female</td>\n",
       "      <td>NaN</td>\n",
       "      <td>1</td>\n",
       "      <td>2</td>\n",
       "      <td>23.45</td>\n",
       "    </tr>\n",
       "    <tr>\n",
       "      <th>889</th>\n",
       "      <td>1</td>\n",
       "      <td>1</td>\n",
       "      <td>male</td>\n",
       "      <td>26.0</td>\n",
       "      <td>0</td>\n",
       "      <td>0</td>\n",
       "      <td>30.00</td>\n",
       "    </tr>\n",
       "    <tr>\n",
       "      <th>890</th>\n",
       "      <td>0</td>\n",
       "      <td>3</td>\n",
       "      <td>male</td>\n",
       "      <td>32.0</td>\n",
       "      <td>0</td>\n",
       "      <td>0</td>\n",
       "      <td>7.75</td>\n",
       "    </tr>\n",
       "  </tbody>\n",
       "</table>\n",
       "</div>"
      ],
      "text/plain": [
       "     Survived  Pclass     Sex   Age  SibSp  Parch   Fare\n",
       "886         0       2    male  27.0      0      0  13.00\n",
       "887         1       1  female  19.0      0      0  30.00\n",
       "888         0       3  female   NaN      1      2  23.45\n",
       "889         1       1    male  26.0      0      0  30.00\n",
       "890         0       3    male  32.0      0      0   7.75"
      ]
     },
     "execution_count": 9,
     "metadata": {},
     "output_type": "execute_result"
    }
   ],
   "source": [
    "# Bottom of the dataset\n",
    "titanic_df.tail()"
   ]
  },
  {
   "cell_type": "code",
   "execution_count": 109,
   "metadata": {
    "collapsed": false
   },
   "outputs": [
    {
     "data": {
      "text/html": [
       "<div>\n",
       "<table border=\"1\" class=\"dataframe\">\n",
       "  <thead>\n",
       "    <tr style=\"text-align: right;\">\n",
       "      <th></th>\n",
       "      <th>Survived</th>\n",
       "      <th>Pclass</th>\n",
       "      <th>Age</th>\n",
       "      <th>SibSp</th>\n",
       "      <th>Parch</th>\n",
       "      <th>Fare</th>\n",
       "    </tr>\n",
       "  </thead>\n",
       "  <tbody>\n",
       "    <tr>\n",
       "      <th>count</th>\n",
       "      <td>891.000000</td>\n",
       "      <td>891.000000</td>\n",
       "      <td>714.000000</td>\n",
       "      <td>891.000000</td>\n",
       "      <td>891.000000</td>\n",
       "      <td>891.000000</td>\n",
       "    </tr>\n",
       "    <tr>\n",
       "      <th>mean</th>\n",
       "      <td>0.383838</td>\n",
       "      <td>2.308642</td>\n",
       "      <td>29.699118</td>\n",
       "      <td>0.523008</td>\n",
       "      <td>0.381594</td>\n",
       "      <td>32.204208</td>\n",
       "    </tr>\n",
       "    <tr>\n",
       "      <th>std</th>\n",
       "      <td>0.486592</td>\n",
       "      <td>0.836071</td>\n",
       "      <td>14.526497</td>\n",
       "      <td>1.102743</td>\n",
       "      <td>0.806057</td>\n",
       "      <td>49.693429</td>\n",
       "    </tr>\n",
       "    <tr>\n",
       "      <th>min</th>\n",
       "      <td>0.000000</td>\n",
       "      <td>1.000000</td>\n",
       "      <td>0.420000</td>\n",
       "      <td>0.000000</td>\n",
       "      <td>0.000000</td>\n",
       "      <td>0.000000</td>\n",
       "    </tr>\n",
       "    <tr>\n",
       "      <th>25%</th>\n",
       "      <td>0.000000</td>\n",
       "      <td>2.000000</td>\n",
       "      <td>NaN</td>\n",
       "      <td>0.000000</td>\n",
       "      <td>0.000000</td>\n",
       "      <td>7.910400</td>\n",
       "    </tr>\n",
       "    <tr>\n",
       "      <th>50%</th>\n",
       "      <td>0.000000</td>\n",
       "      <td>3.000000</td>\n",
       "      <td>NaN</td>\n",
       "      <td>0.000000</td>\n",
       "      <td>0.000000</td>\n",
       "      <td>14.454200</td>\n",
       "    </tr>\n",
       "    <tr>\n",
       "      <th>75%</th>\n",
       "      <td>1.000000</td>\n",
       "      <td>3.000000</td>\n",
       "      <td>NaN</td>\n",
       "      <td>1.000000</td>\n",
       "      <td>0.000000</td>\n",
       "      <td>31.000000</td>\n",
       "    </tr>\n",
       "    <tr>\n",
       "      <th>max</th>\n",
       "      <td>1.000000</td>\n",
       "      <td>3.000000</td>\n",
       "      <td>80.000000</td>\n",
       "      <td>8.000000</td>\n",
       "      <td>6.000000</td>\n",
       "      <td>512.329200</td>\n",
       "    </tr>\n",
       "  </tbody>\n",
       "</table>\n",
       "</div>"
      ],
      "text/plain": [
       "         Survived      Pclass         Age       SibSp       Parch        Fare\n",
       "count  891.000000  891.000000  714.000000  891.000000  891.000000  891.000000\n",
       "mean     0.383838    2.308642   29.699118    0.523008    0.381594   32.204208\n",
       "std      0.486592    0.836071   14.526497    1.102743    0.806057   49.693429\n",
       "min      0.000000    1.000000    0.420000    0.000000    0.000000    0.000000\n",
       "25%      0.000000    2.000000         NaN    0.000000    0.000000    7.910400\n",
       "50%      0.000000    3.000000         NaN    0.000000    0.000000   14.454200\n",
       "75%      1.000000    3.000000         NaN    1.000000    0.000000   31.000000\n",
       "max      1.000000    3.000000   80.000000    8.000000    6.000000  512.329200"
      ]
     },
     "execution_count": 109,
     "metadata": {},
     "output_type": "execute_result"
    }
   ],
   "source": [
    "# Summary statistics of the numerical variables\n",
    "titanic_df.describe()"
   ]
  },
  {
   "cell_type": "code",
   "execution_count": 111,
   "metadata": {
    "collapsed": false
   },
   "outputs": [
    {
     "data": {
      "text/html": [
       "<div>\n",
       "<table border=\"1\" class=\"dataframe\">\n",
       "  <thead>\n",
       "    <tr style=\"text-align: right;\">\n",
       "      <th></th>\n",
       "      <th>Survived</th>\n",
       "      <th>Pclass</th>\n",
       "      <th>Age</th>\n",
       "      <th>SibSp</th>\n",
       "      <th>Parch</th>\n",
       "      <th>Fare</th>\n",
       "    </tr>\n",
       "  </thead>\n",
       "  <tbody>\n",
       "    <tr>\n",
       "      <th>Survived</th>\n",
       "      <td>1.000000</td>\n",
       "      <td>-0.338481</td>\n",
       "      <td>-0.077221</td>\n",
       "      <td>-0.035322</td>\n",
       "      <td>0.081629</td>\n",
       "      <td>0.257307</td>\n",
       "    </tr>\n",
       "    <tr>\n",
       "      <th>Pclass</th>\n",
       "      <td>-0.338481</td>\n",
       "      <td>1.000000</td>\n",
       "      <td>-0.369226</td>\n",
       "      <td>0.083081</td>\n",
       "      <td>0.018443</td>\n",
       "      <td>-0.549500</td>\n",
       "    </tr>\n",
       "    <tr>\n",
       "      <th>Age</th>\n",
       "      <td>-0.077221</td>\n",
       "      <td>-0.369226</td>\n",
       "      <td>1.000000</td>\n",
       "      <td>-0.308247</td>\n",
       "      <td>-0.189119</td>\n",
       "      <td>0.096067</td>\n",
       "    </tr>\n",
       "    <tr>\n",
       "      <th>SibSp</th>\n",
       "      <td>-0.035322</td>\n",
       "      <td>0.083081</td>\n",
       "      <td>-0.308247</td>\n",
       "      <td>1.000000</td>\n",
       "      <td>0.414838</td>\n",
       "      <td>0.159651</td>\n",
       "    </tr>\n",
       "    <tr>\n",
       "      <th>Parch</th>\n",
       "      <td>0.081629</td>\n",
       "      <td>0.018443</td>\n",
       "      <td>-0.189119</td>\n",
       "      <td>0.414838</td>\n",
       "      <td>1.000000</td>\n",
       "      <td>0.216225</td>\n",
       "    </tr>\n",
       "    <tr>\n",
       "      <th>Fare</th>\n",
       "      <td>0.257307</td>\n",
       "      <td>-0.549500</td>\n",
       "      <td>0.096067</td>\n",
       "      <td>0.159651</td>\n",
       "      <td>0.216225</td>\n",
       "      <td>1.000000</td>\n",
       "    </tr>\n",
       "  </tbody>\n",
       "</table>\n",
       "</div>"
      ],
      "text/plain": [
       "          Survived    Pclass       Age     SibSp     Parch      Fare\n",
       "Survived  1.000000 -0.338481 -0.077221 -0.035322  0.081629  0.257307\n",
       "Pclass   -0.338481  1.000000 -0.369226  0.083081  0.018443 -0.549500\n",
       "Age      -0.077221 -0.369226  1.000000 -0.308247 -0.189119  0.096067\n",
       "SibSp    -0.035322  0.083081 -0.308247  1.000000  0.414838  0.159651\n",
       "Parch     0.081629  0.018443 -0.189119  0.414838  1.000000  0.216225\n",
       "Fare      0.257307 -0.549500  0.096067  0.159651  0.216225  1.000000"
      ]
     },
     "execution_count": 111,
     "metadata": {},
     "output_type": "execute_result"
    }
   ],
   "source": [
    "# Correlations of the numerical variables\n",
    "titanic_df.corr()"
   ]
  },
  {
   "cell_type": "markdown",
   "metadata": {},
   "source": [
    "Some first observations from the sample statistics were made:\n",
    "\n",
    "- 38.38% of the passengers survived the shipwreck\n",
    "- The average age of the passengers was of 29.70 years, with a standard deviation of 14.53 years. The oldest person had 80 years and the youngest 5 months.\n",
    "- The passengers paid an average fare paid of 32.20 pounds with a standard deviation of 49.69 pounds. The cheapest fare paid was 0 pounds -which makes an interesting thing to look at in the next sections- and the highest fare paid was of 512.33 pounds.\n",
    "- A numerous amount of passengers doesn't have their age reported\n",
    "\n",
    "Next, I decided to take a look at the number of null values to see how relevant was its impact."
   ]
  },
  {
   "cell_type": "code",
   "execution_count": 11,
   "metadata": {
    "collapsed": false,
    "scrolled": true
   },
   "outputs": [
    {
     "data": {
      "text/html": [
       "<div>\n",
       "<table border=\"1\" class=\"dataframe\">\n",
       "  <thead>\n",
       "    <tr style=\"text-align: right;\">\n",
       "      <th></th>\n",
       "      <th>NaN Count</th>\n",
       "    </tr>\n",
       "  </thead>\n",
       "  <tbody>\n",
       "    <tr>\n",
       "      <th>Survived</th>\n",
       "      <td>0</td>\n",
       "    </tr>\n",
       "    <tr>\n",
       "      <th>Pclass</th>\n",
       "      <td>0</td>\n",
       "    </tr>\n",
       "    <tr>\n",
       "      <th>Sex</th>\n",
       "      <td>0</td>\n",
       "    </tr>\n",
       "    <tr>\n",
       "      <th>Age</th>\n",
       "      <td>177</td>\n",
       "    </tr>\n",
       "    <tr>\n",
       "      <th>SibSp</th>\n",
       "      <td>0</td>\n",
       "    </tr>\n",
       "    <tr>\n",
       "      <th>Parch</th>\n",
       "      <td>0</td>\n",
       "    </tr>\n",
       "    <tr>\n",
       "      <th>Fare</th>\n",
       "      <td>0</td>\n",
       "    </tr>\n",
       "  </tbody>\n",
       "</table>\n",
       "</div>"
      ],
      "text/plain": [
       "          NaN Count\n",
       "Survived          0\n",
       "Pclass            0\n",
       "Sex               0\n",
       "Age             177\n",
       "SibSp             0\n",
       "Parch             0\n",
       "Fare              0"
      ]
     },
     "execution_count": 11,
     "metadata": {},
     "output_type": "execute_result"
    }
   ],
   "source": [
    "# Check for NaN values in the dataset\n",
    "titanic_df.isnull().sum().to_frame().rename(columns={0: 'NaN Count'})"
   ]
  },
  {
   "cell_type": "markdown",
   "metadata": {},
   "source": [
    "As expected the only variable that had null values was the age. It contained 177 null values out of 891 observations, a quite large number. I decided to remove those observations when doing the analysis that involved using that variable. But chose not to do it on analysis that did not involve that variable since an important amount of information would be lost if chose to do that."
   ]
  },
  {
   "cell_type": "markdown",
   "metadata": {},
   "source": [
    "## Effects of age and sex on the survival rates\n",
    "\n",
    "In the following section I investigated the distribution of casualties and survivors in terms of sex and age. The first step was to select the columns required for the analysis and to remove the observations that had null values reported:"
   ]
  },
  {
   "cell_type": "code",
   "execution_count": 12,
   "metadata": {
    "collapsed": false
   },
   "outputs": [],
   "source": [
    "# Generate new dataframe removing the NaN values from the original dataframe\n",
    "titanic_q1_df = titanic_df.dropna()[['Survived', 'Age', 'Sex']]"
   ]
  },
  {
   "cell_type": "markdown",
   "metadata": {},
   "source": [
    "Next, I decided to see if the survival rate had changed: "
   ]
  },
  {
   "cell_type": "code",
   "execution_count": 13,
   "metadata": {
    "collapsed": false
   },
   "outputs": [
    {
     "data": {
      "text/html": [
       "<div>\n",
       "<table border=\"1\" class=\"dataframe\">\n",
       "  <thead>\n",
       "    <tr style=\"text-align: right;\">\n",
       "      <th></th>\n",
       "      <th>Survived</th>\n",
       "      <th>Age</th>\n",
       "    </tr>\n",
       "  </thead>\n",
       "  <tbody>\n",
       "    <tr>\n",
       "      <th>count</th>\n",
       "      <td>714.000000</td>\n",
       "      <td>714.000000</td>\n",
       "    </tr>\n",
       "    <tr>\n",
       "      <th>mean</th>\n",
       "      <td>0.406162</td>\n",
       "      <td>29.699118</td>\n",
       "    </tr>\n",
       "    <tr>\n",
       "      <th>std</th>\n",
       "      <td>0.491460</td>\n",
       "      <td>14.526497</td>\n",
       "    </tr>\n",
       "    <tr>\n",
       "      <th>min</th>\n",
       "      <td>0.000000</td>\n",
       "      <td>0.420000</td>\n",
       "    </tr>\n",
       "    <tr>\n",
       "      <th>25%</th>\n",
       "      <td>0.000000</td>\n",
       "      <td>20.125000</td>\n",
       "    </tr>\n",
       "    <tr>\n",
       "      <th>50%</th>\n",
       "      <td>0.000000</td>\n",
       "      <td>28.000000</td>\n",
       "    </tr>\n",
       "    <tr>\n",
       "      <th>75%</th>\n",
       "      <td>1.000000</td>\n",
       "      <td>38.000000</td>\n",
       "    </tr>\n",
       "    <tr>\n",
       "      <th>max</th>\n",
       "      <td>1.000000</td>\n",
       "      <td>80.000000</td>\n",
       "    </tr>\n",
       "  </tbody>\n",
       "</table>\n",
       "</div>"
      ],
      "text/plain": [
       "         Survived         Age\n",
       "count  714.000000  714.000000\n",
       "mean     0.406162   29.699118\n",
       "std      0.491460   14.526497\n",
       "min      0.000000    0.420000\n",
       "25%      0.000000   20.125000\n",
       "50%      0.000000   28.000000\n",
       "75%      1.000000   38.000000\n",
       "max      1.000000   80.000000"
      ]
     },
     "execution_count": 13,
     "metadata": {},
     "output_type": "execute_result"
    }
   ],
   "source": [
    "# Summary statistics for the variables Survived and Age\n",
    "titanic_q1_df.describe()"
   ]
  },
  {
   "cell_type": "markdown",
   "metadata": {},
   "source": [
    "Once the null values were removed (resulting in a smaller sample size) the survival rate increased slightly to 40.61%. Additionally, it was possible to obtain the values of the 25%, 50% and 75% quantiles for the age. Their values are respectively 20.13, 28 and 38 years old.\n",
    "\n",
    "Next, I decided to see if there were some apparent differences at first sight using a boxplot:"
   ]
  },
  {
   "cell_type": "code",
   "execution_count": 90,
   "metadata": {
    "collapsed": false
   },
   "outputs": [
    {
     "data": {
      "image/png": "[encoded data removed]",
      "text/plain": [
       "<matplotlib.figure.Figure at 0x7f07b01b0710>"
      ]
     },
     "metadata": {},
     "output_type": "display_data"
    }
   ],
   "source": [
    "# Boxplot of age distribution in survivors and non-survivors\n",
    "g = sns.boxplot(x = 'Survived', y = 'Age', data = titanic_q1_df)\n",
    "g.set(xticklabels = ['Casualties', 'Survivors'])\n",
    "sns.despine() # Used to improve the plot format\n",
    "sns.axlabel('', 'Age')"
   ]
  },
  {
   "cell_type": "markdown",
   "metadata": {},
   "source": [
    "At first sight, it seems that there are not major differences in terms of the ages of the surviving and non-surviving groups. The mean for the surviving group is 28.34 years old, below  the 30.62 years old that is observed for the non-surviving group. However, both groups have a median of 28 years old. Also, it is possible to observe that the age distribution of the survivors is more concentrated on smaller values than for the non-survivors."
   ]
  },
  {
   "cell_type": "markdown",
   "metadata": {},
   "source": [
    "After that, I decided to dig a bit deeper and created 3 age groups that could help differentiate more clearly the composition of the survivors and non-survivors. The three groups were:\n",
    "\n",
    "- Children: individuals who were aged less than 18 years old\n",
    "- Adults: individuals with ages between 18 and 65 years old\n",
    "- Elderly: those who were above 65 years old\n",
    "\n",
    "Those groups were assigned to a new variable (column) called *AgeGroup*:"
   ]
  },
  {
   "cell_type": "code",
   "execution_count": 15,
   "metadata": {
    "collapsed": false
   },
   "outputs": [],
   "source": [
    "# Generate groups by age\n",
    "titanic_q1_df.loc[titanic_q1_df.Age < 18,'AgeGroup'] = 'Children'\n",
    "titanic_q1_df.loc[(titanic_q1_df.Age >= 18) & (titanic_q1_df.Age < 65),'AgeGroup'] = 'Adults'\n",
    "titanic_q1_df.loc[titanic_q1_df.Age > 60,'AgeGroup'] = 'Elderly'"
   ]
  },
  {
   "cell_type": "markdown",
   "metadata": {},
   "source": [
    "\n",
    "Then, using those groups, I calculated their relative frequency within the survivors and non-survivors:"
   ]
  },
  {
   "cell_type": "code",
   "execution_count": 108,
   "metadata": {
    "collapsed": false
   },
   "outputs": [
    {
     "data": {
      "text/html": [
       "<div>\n",
       "<table border=\"1\" class=\"dataframe\">\n",
       "  <thead>\n",
       "    <tr style=\"text-align: right;\">\n",
       "      <th></th>\n",
       "      <th>AgeGroup</th>\n",
       "      <th>Survived</th>\n",
       "      <th>Proportion</th>\n",
       "    </tr>\n",
       "  </thead>\n",
       "  <tbody>\n",
       "    <tr>\n",
       "      <th>0</th>\n",
       "      <td>Adults</td>\n",
       "      <td>Casualties</td>\n",
       "      <td>0.837264</td>\n",
       "    </tr>\n",
       "    <tr>\n",
       "      <th>1</th>\n",
       "      <td>Adults</td>\n",
       "      <td>Survivors</td>\n",
       "      <td>0.772414</td>\n",
       "    </tr>\n",
       "    <tr>\n",
       "      <th>2</th>\n",
       "      <td>Children</td>\n",
       "      <td>Casualties</td>\n",
       "      <td>0.122642</td>\n",
       "    </tr>\n",
       "    <tr>\n",
       "      <th>3</th>\n",
       "      <td>Children</td>\n",
       "      <td>Survivors</td>\n",
       "      <td>0.210345</td>\n",
       "    </tr>\n",
       "    <tr>\n",
       "      <th>4</th>\n",
       "      <td>Elderly</td>\n",
       "      <td>Casualties</td>\n",
       "      <td>0.040094</td>\n",
       "    </tr>\n",
       "    <tr>\n",
       "      <th>5</th>\n",
       "      <td>Elderly</td>\n",
       "      <td>Survivors</td>\n",
       "      <td>0.017241</td>\n",
       "    </tr>\n",
       "  </tbody>\n",
       "</table>\n",
       "</div>"
      ],
      "text/plain": [
       "   AgeGroup    Survived  Proportion\n",
       "0    Adults  Casualties    0.837264\n",
       "1    Adults   Survivors    0.772414\n",
       "2  Children  Casualties    0.122642\n",
       "3  Children   Survivors    0.210345\n",
       "4   Elderly  Casualties    0.040094\n",
       "5   Elderly   Survivors    0.017241"
      ]
     },
     "execution_count": 108,
     "metadata": {},
     "output_type": "execute_result"
    },
    {
     "data": {
      "image/png": "[encoded data removed]",
      "text/plain": [
       "<matplotlib.figure.Figure at 0x7f07ac74d950>"
      ]
     },
     "metadata": {},
     "output_type": "display_data"
    }
   ],
   "source": [
    "def gen_relfreq(var_1, var_2, norm_axis, data):\n",
    "    # Function to obtain a dataframe with the relatives frequencies obtained from a cross-tabulation table\n",
    "    df = pd.crosstab(data[var_1], data[var_2], normalize = norm_axis).stack().to_frame().reset_index()\n",
    "    df.loc[df.Survived == 1, 'Survived'] = 'Survivors'\n",
    "    df.loc[df.Survived == 0, 'Survived'] = 'Casualties'\n",
    "    df = df.rename(columns = {0: 'Proportion'})\n",
    "    return df\n",
    "\n",
    "# Obtain relative frequencies of survivors and casualties for each age group\n",
    "agegroup_ax1_df = gen_relfreq('AgeGroup', 'Survived', 1, titanic_q1_df)\n",
    "\n",
    "# Graph \n",
    "g = sns.barplot(x = 'Survived', y = 'Proportion', hue = 'AgeGroup', data = agegroup_ax1_df)\n",
    "g.legend(title = '')\n",
    "sns.axlabel('', 'Proportion')\n",
    "sns.despine()\n",
    "\n",
    "# Table of values\n",
    "agegroup_ax1_df"
   ]
  },
  {
   "cell_type": "markdown",
   "metadata": {
    "collapsed": true
   },
   "source": [
    "It can be seen that each age group shows a clearly distinct behavior. The adults (between 18 and 60 years old) represent 83.72% of the casualties but close to 6.5 percentual points less of the group surviving group (77.24%). On the other hand, the children (less than 18 years old) represent 12.26% of the casualties and in the surviving group they represent 21.03% of the total. Finally, the elderly (more than 60 years old) are 4.01% of the casualties and 1.72% of the survivors.\n",
    "\n",
    "At first sight, one can conclude that children were more likely to survive than the other groups. However, it might be interesting to see if that can be also observed in the proportions of survivors and casualties in each age group. It is possible that only relative to the composition of the age groups children were more likely to survive as it might occur that their survival rate was still less than 50% (meaning that they were more likely to perish than to survive). \n",
    "\n",
    "Using a very similar process than for the figure above, the proportions of casualties and survivors relative to each age group were calculated and are shown below:"
   ]
  },
  {
   "cell_type": "code",
   "execution_count": 102,
   "metadata": {
    "collapsed": false
   },
   "outputs": [
    {
     "data": {
      "text/html": [
       "<div>\n",
       "<table border=\"1\" class=\"dataframe\">\n",
       "  <thead>\n",
       "    <tr style=\"text-align: right;\">\n",
       "      <th></th>\n",
       "      <th>AgeGroup</th>\n",
       "      <th>Survived</th>\n",
       "      <th>Proportion</th>\n",
       "    </tr>\n",
       "  </thead>\n",
       "  <tbody>\n",
       "    <tr>\n",
       "      <th>0</th>\n",
       "      <td>Adults</td>\n",
       "      <td>Casualties</td>\n",
       "      <td>0.613126</td>\n",
       "    </tr>\n",
       "    <tr>\n",
       "      <th>1</th>\n",
       "      <td>Adults</td>\n",
       "      <td>Survivors</td>\n",
       "      <td>0.386874</td>\n",
       "    </tr>\n",
       "    <tr>\n",
       "      <th>2</th>\n",
       "      <td>Children</td>\n",
       "      <td>Casualties</td>\n",
       "      <td>0.460177</td>\n",
       "    </tr>\n",
       "    <tr>\n",
       "      <th>3</th>\n",
       "      <td>Children</td>\n",
       "      <td>Survivors</td>\n",
       "      <td>0.539823</td>\n",
       "    </tr>\n",
       "    <tr>\n",
       "      <th>4</th>\n",
       "      <td>Elderly</td>\n",
       "      <td>Casualties</td>\n",
       "      <td>0.772727</td>\n",
       "    </tr>\n",
       "    <tr>\n",
       "      <th>5</th>\n",
       "      <td>Elderly</td>\n",
       "      <td>Survivors</td>\n",
       "      <td>0.227273</td>\n",
       "    </tr>\n",
       "  </tbody>\n",
       "</table>\n",
       "</div>"
      ],
      "text/plain": [
       "   AgeGroup    Survived  Proportion\n",
       "0    Adults  Casualties    0.613126\n",
       "1    Adults   Survivors    0.386874\n",
       "2  Children  Casualties    0.460177\n",
       "3  Children   Survivors    0.539823\n",
       "4   Elderly  Casualties    0.772727\n",
       "5   Elderly   Survivors    0.227273"
      ]
     },
     "execution_count": 102,
     "metadata": {},
     "output_type": "execute_result"
    },
    {
     "data": {
      "image/png": "[encoded data removed]",
      "text/plain": [
       "<matplotlib.figure.Figure at 0x7f07b06835d0>"
      ]
     },
     "metadata": {},
     "output_type": "display_data"
    }
   ],
   "source": [
    "# Same procedure as before, but the relative frequencies are calculated for the in this case\n",
    "agegroup_ax0_df = gen_relfreq('AgeGroup', 'Survived', 0, titanic_q1_df)\n",
    "\n",
    "# Graph\n",
    "g = sns.barplot(x = 'AgeGroup', y = 'Proportion', hue = 'Survived', data = agegroup_ax0_df)\n",
    "g.legend(title = '', loc = 'best')\n",
    "sns.axlabel('', 'Proportion')\n",
    "sns.despine()\n",
    "\n",
    "# Table of values\n",
    "agegroup_ax0_df"
   ]
  },
  {
   "cell_type": "markdown",
   "metadata": {},
   "source": [
    "For the adults and elderly groups, the proportions of survivors and non-survivors just reaffirm the idea that those groups were much more likely to perish than to survive. For the adults, 61.31% perished and for the elderly this percentage was 77.27%. However, in the case of children, a very different picture appears. It occurred that it was more likely to survive than to perish, occurring that 53.98% of them survived. "
   ]
  },
  {
   "cell_type": "markdown",
   "metadata": {},
   "source": [
    "The following step was to extend the previous analysis using the gender of the passengers. With that in mind, I first decided to see the composition of the surviving and non-surviving group in terms of sex:"
   ]
  },
  {
   "cell_type": "code",
   "execution_count": 105,
   "metadata": {
    "collapsed": false
   },
   "outputs": [
    {
     "data": {
      "text/html": [
       "<div>\n",
       "<table border=\"1\" class=\"dataframe\">\n",
       "  <thead>\n",
       "    <tr style=\"text-align: right;\">\n",
       "      <th>Sex</th>\n",
       "      <th>female</th>\n",
       "      <th>male</th>\n",
       "    </tr>\n",
       "    <tr>\n",
       "      <th>Survived</th>\n",
       "      <th></th>\n",
       "      <th></th>\n",
       "    </tr>\n",
       "  </thead>\n",
       "  <tbody>\n",
       "    <tr>\n",
       "      <th>0</th>\n",
       "      <td>0.150943</td>\n",
       "      <td>0.849057</td>\n",
       "    </tr>\n",
       "    <tr>\n",
       "      <th>1</th>\n",
       "      <td>0.679310</td>\n",
       "      <td>0.320690</td>\n",
       "    </tr>\n",
       "  </tbody>\n",
       "</table>\n",
       "</div>"
      ],
      "text/plain": [
       "Sex         female      male\n",
       "Survived                    \n",
       "0         0.150943  0.849057\n",
       "1         0.679310  0.320690"
      ]
     },
     "execution_count": 105,
     "metadata": {},
     "output_type": "execute_result"
    }
   ],
   "source": [
    "# Generate cross-tab using Survived and Sex variables\n",
    "pd.crosstab(titanic_q1_df['Survived'], titanic_q1_df['Sex'], normalize = 0)"
   ]
  },
  {
   "cell_type": "markdown",
   "metadata": {},
   "source": [
    "Immediately, it is possible to observe major differences in the proportion of females and males in the considered groups. In terms of the casualties, 15.09% were females and the 84.91% were males. On the contrary, women represented 67.93% of the survivors and males accounted for the remaining 32.07%. With regard to the question we are trying to answer, this shows some clear evidence of sex bias in the compositions of both groups.\n",
    "\n",
    "After that, I decided to plot the count of survivors and non-survivors, classified by age group and gender:"
   ]
  },
  {
   "cell_type": "code",
   "execution_count": null,
   "metadata": {
    "collapsed": false
   },
   "outputs": [],
   "source": [
    "# Plot survivors and non-survivors classified by age and gender\n",
    "sns.factorplot(x = 'AgeGroup', hue = 'Sex', col = 'Survived', col_wrap = 2, data = titanic_q1_df, \n",
    "               kind = 'count', size = 4)\n",
    "sns.despine()"
   ]
  },
  {
   "cell_type": "markdown",
   "metadata": {},
   "source": [
    "It is possible to see in the above plot that males were predominant in the 3 age groups for the non-surviving group. Up to the point that there were not female casualties in the elderly non-surviving group. By contrast, the survivors are mostly females for the three age groups.\n",
    "\n",
    "To obtain the exact proportions in each of the groups, I built a cross-tabulation table using the *Survive*, *AgeGroup* and *Sex* variables:"
   ]
  },
  {
   "cell_type": "code",
   "execution_count": 106,
   "metadata": {
    "collapsed": false
   },
   "outputs": [
    {
     "data": {
      "text/html": [
       "<div>\n",
       "<table border=\"1\" class=\"dataframe\">\n",
       "  <thead>\n",
       "    <tr>\n",
       "      <th>Sex</th>\n",
       "      <th colspan=\"3\" halign=\"left\">female</th>\n",
       "      <th colspan=\"3\" halign=\"left\">male</th>\n",
       "    </tr>\n",
       "    <tr>\n",
       "      <th>AgeGroup</th>\n",
       "      <th>Adults</th>\n",
       "      <th>Children</th>\n",
       "      <th>Elderly</th>\n",
       "      <th>Adults</th>\n",
       "      <th>Children</th>\n",
       "      <th>Elderly</th>\n",
       "    </tr>\n",
       "    <tr>\n",
       "      <th>Survived</th>\n",
       "      <th></th>\n",
       "      <th></th>\n",
       "      <th></th>\n",
       "      <th></th>\n",
       "      <th></th>\n",
       "      <th></th>\n",
       "    </tr>\n",
       "  </thead>\n",
       "  <tbody>\n",
       "    <tr>\n",
       "      <th>0</th>\n",
       "      <td>0.231527</td>\n",
       "      <td>0.309091</td>\n",
       "      <td>0.0</td>\n",
       "      <td>0.819149</td>\n",
       "      <td>0.603448</td>\n",
       "      <td>0.894737</td>\n",
       "    </tr>\n",
       "    <tr>\n",
       "      <th>1</th>\n",
       "      <td>0.768473</td>\n",
       "      <td>0.690909</td>\n",
       "      <td>1.0</td>\n",
       "      <td>0.180851</td>\n",
       "      <td>0.396552</td>\n",
       "      <td>0.105263</td>\n",
       "    </tr>\n",
       "  </tbody>\n",
       "</table>\n",
       "</div>"
      ],
      "text/plain": [
       "Sex         female                        male                    \n",
       "AgeGroup    Adults  Children Elderly    Adults  Children   Elderly\n",
       "Survived                                                          \n",
       "0         0.231527  0.309091     0.0  0.819149  0.603448  0.894737\n",
       "1         0.768473  0.690909     1.0  0.180851  0.396552  0.105263"
      ]
     },
     "execution_count": 106,
     "metadata": {},
     "output_type": "execute_result"
    }
   ],
   "source": [
    "# Generate cross-tab using Survived, Sex and AgeGroup variables\n",
    "pd.crosstab(titanic_q1_df['Survived'], [titanic_q1_df['Sex'], titanic_q1_df['AgeGroup']], normalize = 1)"
   ]
  },
  {
   "cell_type": "markdown",
   "metadata": {},
   "source": [
    "For the female adults, children and elderly groups the survival rates were 76.85%, 69.10% and 100% respectively. For men, the survival rates were significative lower. Reaching 18.09%, 39.66% and 10.52% for adults, children, and elderly respectively.\n",
    "\n",
    "Finally, based on what was observed previously I decided to filter the dataset to match the passengers that were females or children and obtain the survival rate for the women and children group and for adult and elderly males:  "
   ]
  },
  {
   "cell_type": "code",
   "execution_count": null,
   "metadata": {
    "collapsed": false
   },
   "outputs": [],
   "source": [
    "# Slice dataframe selecting children and women\n",
    "chfem_df = titanic_q1_df.loc[(titanic_q1_df.AgeGroup == 'Children') | (titanic_q1_df.Sex == 'female')]\n",
    "# Slice dataframe selecting males\n",
    "nonchfem_df = titanic_q1_df.loc[titanic_q1_df.Sex == 'male']\n",
    "\n",
    "print('General survival rate: %.2f%%' % (titanic_q1_df.Survived.mean()*100))\n",
    "print('Women and children survival rate: %.2f%%' % (chfem_df.Survived.mean()*100))\n",
    "print('Males survival rate: %.2f%%' % (nonchfem_df.Survived.mean()*100))"
   ]
  },
  {
   "cell_type": "markdown",
   "metadata": {},
   "source": [
    "## Conclusions\n",
    "\n",
    "Even though descriptive studies are not very powerful in terms of reaching conclusions. The question that was established at the beginning of this report can be solved:\n",
    "\n",
    "*Were women and children more likely to survive than males?*\n",
    "\n",
    "Yes. The survival rate of women and children was 68.97%, much higher than the males survival rate of 20.53% rate. Both of those values are also very different from the survival rate of all the passengers with a reported age value (40.62%). \n",
    "\n",
    "On the other hand, when passengers are not divided by age groups there does not seem to be major differences in terms of the age, dividing the groups by in demographic age groups show important changes in the value of the survival rate. So even though the survival rate was highly correlated with being a woman or child that does not mean that being part of those demographic groups was the cause of the higher survival rate. There might be confounding variables that could have also explained that relationship. \n",
    "\n",
    "Anyhow, tough luck Jack. It seems like it wasn't a good day to be a male with your demographic characteristics.\n",
    "\n",
    "<img src=\"titanic_jack.jpg\">\n",
    "\n"
   ]
  },
  {
   "cell_type": "markdown",
   "metadata": {},
   "source": [
    "## References\n",
    "\n",
    "* [Titanic: Machine Learning from Disaster](https://www.kaggle.com/c/titanic/data)\n",
    "\n",
    "* [Women and children first](http://www.cam.ac.uk/research/discussion/shipwrecked-women-and-children-first)\n",
    "\n"
   ]
  }
 ],
 "metadata": {
  "kernelspec": {
   "display_name": "Python [Root]",
   "language": "python",
   "name": "Python [Root]"
  },
  "language_info": {
   "codemirror_mode": {
    "name": "ipython",
    "version": 2
   },
   "file_extension": ".py",
   "mimetype": "text/x-python",
   "name": "python",
   "nbconvert_exporter": "python",
   "pygments_lexer": "ipython2",
   "version": "2.7.12"
  }
 },
 "nbformat": 4,
 "nbformat_minor": 0
}
