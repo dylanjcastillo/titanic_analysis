{
 "cells": [
  {
   "cell_type": "markdown",
   "metadata": {},
   "source": [
    "# An exploratory data analysis of the Titanic's casualties \n",
    "\n",
    "This notebook consists of a descriptive analysis of the Kaggle's Titanic Dataset. It tries to offer some insights on how the casualties distributed among the passengers, showing the most and least affected.\n",
    "\n",
    "The main 3 questions it tries to answer are:\n",
    "\n",
    "1. \"Women and children first\" is a code of conduct whereby the lives of women and children are to be saved first in a life-threatening situation. However a study by study the Uppsala University in 2012, that makes a reviews 19th-century shipwreck narratives does not find strong evidence for this to be the case. So the first question that this analysis embarks on is: \"Were women and children really first or the evacuation was a chaotic free-for-all in terms of casualties?\"\n",
    "\n",
    "2. How were the casualties distributed in terms of the passengers' socio-economic status? Was there a statistically significant difference between them?\n",
    "\n",
    "3. How likely was a person to survive if he/she were alone compared to if he were with his family?"
   ]
  },
  {
   "cell_type": "markdown",
   "metadata": {},
   "source": [
    "## Exploratory data analysis\n",
    "\n",
    "### Basic settings and reading the data \n",
    "The first step was to import the libraries needed for the analysis:"
   ]
  },
  {
   "cell_type": "code",
   "execution_count": 53,
   "metadata": {
    "collapsed": false
   },
   "outputs": [],
   "source": [
    "# Import the libraries that will be used during the analysis\n",
    "import pandas as pd\n",
    "import numpy as np\n",
    "import matplotlib as plt\n",
    "import seaborn as sns"
   ]
  },
  {
   "cell_type": "markdown",
   "metadata": {},
   "source": [
    "Secondly, I decided to establish some basic settings for the visualizations:"
   ]
  },
  {
   "cell_type": "code",
   "execution_count": 7,
   "metadata": {
    "collapsed": true
   },
   "outputs": [],
   "source": [
    "# General settings for the visualizations\n",
    "sns.set(context = 'notebook', style = 'whitegrid', rc = {'axes.grid': False, \n",
    "                                                         'grid.color': '1',\n",
    "                                                         'text.color': '.2',\n",
    "                                                         'legend.frameon': True,\n",
    "                                                         'axes.axisbelow': True,\n",
    "                                                         'axes.edgecolor': '.8',\n",
    "                                                         'axes.facecolor': 'white',\n",
    "                                                         'axes.grid': False,\n",
    "                                                         'axes.labelcolor': '.4',\n",
    "                                                         'axes.linewidth': 1.0,\n",
    "                                                         'xtick.color': '.4',\n",
    "                                                         'ytick.color': '.4'})\n",
    "sns.set_palette([\"#1b85b8\", \"#5a5255\", \"#559e83\", \"#ae5a41\", \"#c3cb71\"])\n",
    "%matplotlib inline"
   ]
  },
  {
   "cell_type": "markdown",
   "metadata": {},
   "source": [
    "Next, I read the *.csv* dataset file and took a look at the variables that composed it and the descriptions available for the them in Kaggle:"
   ]
  },
  {
   "cell_type": "code",
   "execution_count": 90,
   "metadata": {
    "collapsed": false
   },
   "outputs": [],
   "source": [
    "# Read the dataset\n",
    "titanic_df = pd.read_csv('titanic_data.csv')\n",
    "\n",
    "# Variables and their corresponding data types\n",
    "titanic_dtypes = titanic_df.dtypes # Shown in the table below "
   ]
  },
  {
   "cell_type": "markdown",
   "metadata": {},
   "source": [
    "The dataset included the following 12 variables with their respective description and data type:"
   ]
  },
  {
   "cell_type": "markdown",
   "metadata": {},
   "source": [
    " Variable   | Description          | Type\n",
    "------------|----------------------|-------------\n",
    "PassengerId |    Passenger internal ID number | int64\n",
    "Survived    |    Survival (0 = No; 1 = Yes) | int64\n",
    "Pclass      |    Passenger Class (1 = 1st; 2 = 2nd; 3 = 3rd) | int64\n",
    "Name        |    Name | object\n",
    "Sex         |    Sex | object\n",
    "Age         |    Age | float64\n",
    "Sibsp       |    Number of Siblings/Spouses Aboard | int64\n",
    "Parch       |    Number of Parents/Children Aboard | int64\n",
    "Ticket      |    Ticket Number | object\n",
    "Fare        |    Passenger Fare |float64\n",
    "Cabin       |    Cabin | object\n",
    "Embarked    |    Port of Embarkation (C = Cherbourg; Q = Queenstown; S = Southampton) | object"
   ]
  },
  {
   "cell_type": "markdown",
   "metadata": {},
   "source": [
    "### Data filtering and summary statistics\n",
    "\n",
    "Once the data was read I did some cleaning of it. First, based on the questions presented previously  there were some variables that I decided to left out as they were not relevant for the analysis. The variables kept were the following 7: *Survived, Pclass, Sex, Age, SibSp, Parch and Fare*."
   ]
  },
  {
   "cell_type": "code",
   "execution_count": 91,
   "metadata": {
    "collapsed": false
   },
   "outputs": [],
   "source": [
    "titanic_df = titanic_df[['Survived', 'Pclass', 'Sex', 'Age', 'SibSp', 'Parch', 'Fare']]"
   ]
  },
  {
   "cell_type": "markdown",
   "metadata": {},
   "source": [
    "After that, I decided to take a look at the structure of the dataset by counting the number of observations (rows), looking at the first and last rows of the dataset (to see if the data was read correctly) and generating summary statistics of the numerical variables"
   ]
  },
  {
   "cell_type": "code",
   "execution_count": 92,
   "metadata": {
    "collapsed": false
   },
   "outputs": [
    {
     "data": {
      "text/plain": [
       "(891, 7)"
      ]
     },
     "execution_count": 92,
     "metadata": {},
     "output_type": "execute_result"
    }
   ],
   "source": [
    "# Number of rows of the dataset\n",
    "titanic_df.shape"
   ]
  },
  {
   "cell_type": "code",
   "execution_count": 93,
   "metadata": {
    "collapsed": false
   },
   "outputs": [
    {
     "data": {
      "text/html": [
       "<div>\n",
       "<table border=\"1\" class=\"dataframe\">\n",
       "  <thead>\n",
       "    <tr style=\"text-align: right;\">\n",
       "      <th></th>\n",
       "      <th>Survived</th>\n",
       "      <th>Pclass</th>\n",
       "      <th>Sex</th>\n",
       "      <th>Age</th>\n",
       "      <th>SibSp</th>\n",
       "      <th>Parch</th>\n",
       "      <th>Fare</th>\n",
       "    </tr>\n",
       "  </thead>\n",
       "  <tbody>\n",
       "    <tr>\n",
       "      <th>0</th>\n",
       "      <td>0</td>\n",
       "      <td>3</td>\n",
       "      <td>male</td>\n",
       "      <td>22.0</td>\n",
       "      <td>1</td>\n",
       "      <td>0</td>\n",
       "      <td>7.2500</td>\n",
       "    </tr>\n",
       "    <tr>\n",
       "      <th>1</th>\n",
       "      <td>1</td>\n",
       "      <td>1</td>\n",
       "      <td>female</td>\n",
       "      <td>38.0</td>\n",
       "      <td>1</td>\n",
       "      <td>0</td>\n",
       "      <td>71.2833</td>\n",
       "    </tr>\n",
       "    <tr>\n",
       "      <th>2</th>\n",
       "      <td>1</td>\n",
       "      <td>3</td>\n",
       "      <td>female</td>\n",
       "      <td>26.0</td>\n",
       "      <td>0</td>\n",
       "      <td>0</td>\n",
       "      <td>7.9250</td>\n",
       "    </tr>\n",
       "    <tr>\n",
       "      <th>3</th>\n",
       "      <td>1</td>\n",
       "      <td>1</td>\n",
       "      <td>female</td>\n",
       "      <td>35.0</td>\n",
       "      <td>1</td>\n",
       "      <td>0</td>\n",
       "      <td>53.1000</td>\n",
       "    </tr>\n",
       "    <tr>\n",
       "      <th>4</th>\n",
       "      <td>0</td>\n",
       "      <td>3</td>\n",
       "      <td>male</td>\n",
       "      <td>35.0</td>\n",
       "      <td>0</td>\n",
       "      <td>0</td>\n",
       "      <td>8.0500</td>\n",
       "    </tr>\n",
       "  </tbody>\n",
       "</table>\n",
       "</div>"
      ],
      "text/plain": [
       "   Survived  Pclass     Sex   Age  SibSp  Parch     Fare\n",
       "0         0       3    male  22.0      1      0   7.2500\n",
       "1         1       1  female  38.0      1      0  71.2833\n",
       "2         1       3  female  26.0      0      0   7.9250\n",
       "3         1       1  female  35.0      1      0  53.1000\n",
       "4         0       3    male  35.0      0      0   8.0500"
      ]
     },
     "execution_count": 93,
     "metadata": {},
     "output_type": "execute_result"
    }
   ],
   "source": [
    "# Top of the dataset\n",
    "titanic_df.head()"
   ]
  },
  {
   "cell_type": "code",
   "execution_count": 94,
   "metadata": {
    "collapsed": false
   },
   "outputs": [
    {
     "data": {
      "text/html": [
       "<div>\n",
       "<table border=\"1\" class=\"dataframe\">\n",
       "  <thead>\n",
       "    <tr style=\"text-align: right;\">\n",
       "      <th></th>\n",
       "      <th>Survived</th>\n",
       "      <th>Pclass</th>\n",
       "      <th>Sex</th>\n",
       "      <th>Age</th>\n",
       "      <th>SibSp</th>\n",
       "      <th>Parch</th>\n",
       "      <th>Fare</th>\n",
       "    </tr>\n",
       "  </thead>\n",
       "  <tbody>\n",
       "    <tr>\n",
       "      <th>886</th>\n",
       "      <td>0</td>\n",
       "      <td>2</td>\n",
       "      <td>male</td>\n",
       "      <td>27.0</td>\n",
       "      <td>0</td>\n",
       "      <td>0</td>\n",
       "      <td>13.00</td>\n",
       "    </tr>\n",
       "    <tr>\n",
       "      <th>887</th>\n",
       "      <td>1</td>\n",
       "      <td>1</td>\n",
       "      <td>female</td>\n",
       "      <td>19.0</td>\n",
       "      <td>0</td>\n",
       "      <td>0</td>\n",
       "      <td>30.00</td>\n",
       "    </tr>\n",
       "    <tr>\n",
       "      <th>888</th>\n",
       "      <td>0</td>\n",
       "      <td>3</td>\n",
       "      <td>female</td>\n",
       "      <td>NaN</td>\n",
       "      <td>1</td>\n",
       "      <td>2</td>\n",
       "      <td>23.45</td>\n",
       "    </tr>\n",
       "    <tr>\n",
       "      <th>889</th>\n",
       "      <td>1</td>\n",
       "      <td>1</td>\n",
       "      <td>male</td>\n",
       "      <td>26.0</td>\n",
       "      <td>0</td>\n",
       "      <td>0</td>\n",
       "      <td>30.00</td>\n",
       "    </tr>\n",
       "    <tr>\n",
       "      <th>890</th>\n",
       "      <td>0</td>\n",
       "      <td>3</td>\n",
       "      <td>male</td>\n",
       "      <td>32.0</td>\n",
       "      <td>0</td>\n",
       "      <td>0</td>\n",
       "      <td>7.75</td>\n",
       "    </tr>\n",
       "  </tbody>\n",
       "</table>\n",
       "</div>"
      ],
      "text/plain": [
       "     Survived  Pclass     Sex   Age  SibSp  Parch   Fare\n",
       "886         0       2    male  27.0      0      0  13.00\n",
       "887         1       1  female  19.0      0      0  30.00\n",
       "888         0       3  female   NaN      1      2  23.45\n",
       "889         1       1    male  26.0      0      0  30.00\n",
       "890         0       3    male  32.0      0      0   7.75"
      ]
     },
     "execution_count": 94,
     "metadata": {},
     "output_type": "execute_result"
    }
   ],
   "source": [
    "# Bottom of the dataset\n",
    "titanic_df.tail()"
   ]
  },
  {
   "cell_type": "code",
   "execution_count": 95,
   "metadata": {
    "collapsed": false
   },
   "outputs": [
    {
     "data": {
      "text/html": [
       "<div>\n",
       "<table border=\"1\" class=\"dataframe\">\n",
       "  <thead>\n",
       "    <tr style=\"text-align: right;\">\n",
       "      <th></th>\n",
       "      <th>Survived</th>\n",
       "      <th>Pclass</th>\n",
       "      <th>Age</th>\n",
       "      <th>SibSp</th>\n",
       "      <th>Parch</th>\n",
       "      <th>Fare</th>\n",
       "    </tr>\n",
       "  </thead>\n",
       "  <tbody>\n",
       "    <tr>\n",
       "      <th>count</th>\n",
       "      <td>891.000000</td>\n",
       "      <td>891.000000</td>\n",
       "      <td>714.000000</td>\n",
       "      <td>891.000000</td>\n",
       "      <td>891.000000</td>\n",
       "      <td>891.000000</td>\n",
       "    </tr>\n",
       "    <tr>\n",
       "      <th>mean</th>\n",
       "      <td>0.383838</td>\n",
       "      <td>2.308642</td>\n",
       "      <td>29.699118</td>\n",
       "      <td>0.523008</td>\n",
       "      <td>0.381594</td>\n",
       "      <td>32.204208</td>\n",
       "    </tr>\n",
       "    <tr>\n",
       "      <th>std</th>\n",
       "      <td>0.486592</td>\n",
       "      <td>0.836071</td>\n",
       "      <td>14.526497</td>\n",
       "      <td>1.102743</td>\n",
       "      <td>0.806057</td>\n",
       "      <td>49.693429</td>\n",
       "    </tr>\n",
       "    <tr>\n",
       "      <th>min</th>\n",
       "      <td>0.000000</td>\n",
       "      <td>1.000000</td>\n",
       "      <td>0.420000</td>\n",
       "      <td>0.000000</td>\n",
       "      <td>0.000000</td>\n",
       "      <td>0.000000</td>\n",
       "    </tr>\n",
       "    <tr>\n",
       "      <th>25%</th>\n",
       "      <td>0.000000</td>\n",
       "      <td>2.000000</td>\n",
       "      <td>NaN</td>\n",
       "      <td>0.000000</td>\n",
       "      <td>0.000000</td>\n",
       "      <td>7.910400</td>\n",
       "    </tr>\n",
       "    <tr>\n",
       "      <th>50%</th>\n",
       "      <td>0.000000</td>\n",
       "      <td>3.000000</td>\n",
       "      <td>NaN</td>\n",
       "      <td>0.000000</td>\n",
       "      <td>0.000000</td>\n",
       "      <td>14.454200</td>\n",
       "    </tr>\n",
       "    <tr>\n",
       "      <th>75%</th>\n",
       "      <td>1.000000</td>\n",
       "      <td>3.000000</td>\n",
       "      <td>NaN</td>\n",
       "      <td>1.000000</td>\n",
       "      <td>0.000000</td>\n",
       "      <td>31.000000</td>\n",
       "    </tr>\n",
       "    <tr>\n",
       "      <th>max</th>\n",
       "      <td>1.000000</td>\n",
       "      <td>3.000000</td>\n",
       "      <td>80.000000</td>\n",
       "      <td>8.000000</td>\n",
       "      <td>6.000000</td>\n",
       "      <td>512.329200</td>\n",
       "    </tr>\n",
       "  </tbody>\n",
       "</table>\n",
       "</div>"
      ],
      "text/plain": [
       "         Survived      Pclass         Age       SibSp       Parch        Fare\n",
       "count  891.000000  891.000000  714.000000  891.000000  891.000000  891.000000\n",
       "mean     0.383838    2.308642   29.699118    0.523008    0.381594   32.204208\n",
       "std      0.486592    0.836071   14.526497    1.102743    0.806057   49.693429\n",
       "min      0.000000    1.000000    0.420000    0.000000    0.000000    0.000000\n",
       "25%      0.000000    2.000000         NaN    0.000000    0.000000    7.910400\n",
       "50%      0.000000    3.000000         NaN    0.000000    0.000000   14.454200\n",
       "75%      1.000000    3.000000         NaN    1.000000    0.000000   31.000000\n",
       "max      1.000000    3.000000   80.000000    8.000000    6.000000  512.329200"
      ]
     },
     "execution_count": 95,
     "metadata": {},
     "output_type": "execute_result"
    }
   ],
   "source": [
    "# Summary statistics of the numerical variables\n",
    "titanic_df.describe()"
   ]
  },
  {
   "cell_type": "markdown",
   "metadata": {},
   "source": [
    "Some first observations from the sample statistics were made:\n",
    "\n",
    "- 38.38% of the passengers survived the shipwreck\n",
    "- The average age of the passengers was of 29.70 years, with a standard deviation of 14.53 years. The oldest person had 80 years and the youngest 5 months.\n",
    "- The passengers paid an average fare paid of 32.20 pounds with a standard deviation of 49.69 pounds. The cheapest fare paid was 0 pounds -which makes an interesting thing to look at in the next sections- and the highest fare paid was of 512.33 pounds.\n",
    "- A numerous amount of passengers doesn't have their age reported\n",
    "\n",
    "Next, I decided to take a look at the number of null values to see how relevant was its impact."
   ]
  },
  {
   "cell_type": "code",
   "execution_count": 100,
   "metadata": {
    "collapsed": false,
    "scrolled": true
   },
   "outputs": [
    {
     "data": {
      "text/html": [
       "<div>\n",
       "<table border=\"1\" class=\"dataframe\">\n",
       "  <thead>\n",
       "    <tr style=\"text-align: right;\">\n",
       "      <th></th>\n",
       "      <th>NaN Count</th>\n",
       "    </tr>\n",
       "  </thead>\n",
       "  <tbody>\n",
       "    <tr>\n",
       "      <th>Survived</th>\n",
       "      <td>0</td>\n",
       "    </tr>\n",
       "    <tr>\n",
       "      <th>Pclass</th>\n",
       "      <td>0</td>\n",
       "    </tr>\n",
       "    <tr>\n",
       "      <th>Sex</th>\n",
       "      <td>0</td>\n",
       "    </tr>\n",
       "    <tr>\n",
       "      <th>Age</th>\n",
       "      <td>177</td>\n",
       "    </tr>\n",
       "    <tr>\n",
       "      <th>SibSp</th>\n",
       "      <td>0</td>\n",
       "    </tr>\n",
       "    <tr>\n",
       "      <th>Parch</th>\n",
       "      <td>0</td>\n",
       "    </tr>\n",
       "    <tr>\n",
       "      <th>Fare</th>\n",
       "      <td>0</td>\n",
       "    </tr>\n",
       "  </tbody>\n",
       "</table>\n",
       "</div>"
      ],
      "text/plain": [
       "          NaN Count\n",
       "Survived          0\n",
       "Pclass            0\n",
       "Sex               0\n",
       "Age             177\n",
       "SibSp             0\n",
       "Parch             0\n",
       "Fare              0"
      ]
     },
     "execution_count": 100,
     "metadata": {},
     "output_type": "execute_result"
    }
   ],
   "source": [
    "# Check for NaN values in the dataset\n",
    "titanic_df.isnull().sum().to_frame().rename(columns={0: 'NaN Count'})"
   ]
  },
  {
   "cell_type": "markdown",
   "metadata": {},
   "source": [
    "As expected the only variable that had null values was the age. It contained 177 null values out of 891 observations, a quite large number. I decided to remove those observations when doing the analysis that involved using that variable. But chose not to do it on analysis that did not involve that variable since an important amount of information would be lost if chose to do that."
   ]
  },
  {
   "cell_type": "markdown",
   "metadata": {},
   "source": [
    "### Effects of sex and age\n",
    "\n",
    "In the following section I investigated the distribution of casualties and survivors in terms of sex and age. \n",
    "\n",
    "The first step was to delete the observations that had did not have age values reported:"
   ]
  },
  {
   "cell_type": "code",
   "execution_count": 16,
   "metadata": {
    "collapsed": false
   },
   "outputs": [],
   "source": [
    "# Generate new dataframe removing the NaN values from the original dataframe\n",
    "titanic_q1_df = titanic_df.dropna()[['Survived', 'Age']]"
   ]
  },
  {
   "cell_type": "markdown",
   "metadata": {},
   "source": [
    "Next, I decided to see if the survival rate had changed: "
   ]
  },
  {
   "cell_type": "code",
   "execution_count": 17,
   "metadata": {
    "collapsed": false
   },
   "outputs": [
    {
     "data": {
      "text/html": [
       "<div>\n",
       "<table border=\"1\" class=\"dataframe\">\n",
       "  <thead>\n",
       "    <tr style=\"text-align: right;\">\n",
       "      <th></th>\n",
       "      <th>Survived</th>\n",
       "      <th>Age</th>\n",
       "    </tr>\n",
       "  </thead>\n",
       "  <tbody>\n",
       "    <tr>\n",
       "      <th>count</th>\n",
       "      <td>714.000000</td>\n",
       "      <td>714.000000</td>\n",
       "    </tr>\n",
       "    <tr>\n",
       "      <th>mean</th>\n",
       "      <td>0.406162</td>\n",
       "      <td>29.699118</td>\n",
       "    </tr>\n",
       "    <tr>\n",
       "      <th>std</th>\n",
       "      <td>0.491460</td>\n",
       "      <td>14.526497</td>\n",
       "    </tr>\n",
       "    <tr>\n",
       "      <th>min</th>\n",
       "      <td>0.000000</td>\n",
       "      <td>0.420000</td>\n",
       "    </tr>\n",
       "    <tr>\n",
       "      <th>25%</th>\n",
       "      <td>0.000000</td>\n",
       "      <td>20.125000</td>\n",
       "    </tr>\n",
       "    <tr>\n",
       "      <th>50%</th>\n",
       "      <td>0.000000</td>\n",
       "      <td>28.000000</td>\n",
       "    </tr>\n",
       "    <tr>\n",
       "      <th>75%</th>\n",
       "      <td>1.000000</td>\n",
       "      <td>38.000000</td>\n",
       "    </tr>\n",
       "    <tr>\n",
       "      <th>max</th>\n",
       "      <td>1.000000</td>\n",
       "      <td>80.000000</td>\n",
       "    </tr>\n",
       "  </tbody>\n",
       "</table>\n",
       "</div>"
      ],
      "text/plain": [
       "         Survived         Age\n",
       "count  714.000000  714.000000\n",
       "mean     0.406162   29.699118\n",
       "std      0.491460   14.526497\n",
       "min      0.000000    0.420000\n",
       "25%      0.000000   20.125000\n",
       "50%      0.000000   28.000000\n",
       "75%      1.000000   38.000000\n",
       "max      1.000000   80.000000"
      ]
     },
     "execution_count": 17,
     "metadata": {},
     "output_type": "execute_result"
    }
   ],
   "source": [
    "# Summary statistics for the variables Survived and Age\n",
    "titanic_q1_df.describe()"
   ]
  },
  {
   "cell_type": "markdown",
   "metadata": {},
   "source": [
    "Once the null values were removed (resulting in a smaller sample size) the survival rate increased slightly to 40.61%. Additionally, it was possible to obtain the values of the 25%, 50% and 75% quantiles for the age. Their values are respectively 20.13, 28 and 38 years old.\n",
    "\n",
    "After that, I decided to see if there were any difference in how the distribution by age in the surviving and non-surviving groups. For that I created three groups by ages:\n",
    "\n",
    "- Children: Ages less than 18 years old\n",
    "- Adults: Ages between 18 and 65 years old\n",
    "- Elderly: Ages more than 65 years old\n",
    "\n",
    "Those groups were assigned in a new variable (column) called *AgeGroup*:"
   ]
  },
  {
   "cell_type": "code",
   "execution_count": 23,
   "metadata": {
    "collapsed": false
   },
   "outputs": [],
   "source": [
    "# Generate groups by age\n",
    "titanic_q1_df.loc[titanic_q1_df.Age < 18,'AgeGroup'] = 'Children'\n",
    "titanic_q1_df.loc[(titanic_q1_df.Age >= 18) & (titanic_q1_df.Age < 65),'AgeGroup'] = 'Adults'\n",
    "titanic_q1_df.loc[titanic_q1_df.Age > 60,'AgeGroup'] = 'Elderly'"
   ]
  },
  {
   "cell_type": "markdown",
   "metadata": {},
   "source": [
    "Then, using those groups, I calculated the distribution by age among the surviving and non-surviving groups."
   ]
  },
  {
   "cell_type": "code",
   "execution_count": 103,
   "metadata": {
    "collapsed": false
   },
   "outputs": [
    {
     "data": {
      "image/png": "[encoded data removed]",
      "text/plain": [
       "<matplotlib.figure.Figure at 0x7f88716c6410>"
      ]
     },
     "metadata": {},
     "output_type": "display_data"
    }
   ],
   "source": [
    "# Generate relative frequency by age group dataframe to graph\n",
    "agegroup_df = pd.crosstab(titanic_q1_df['AgeGroup'], titanic_q1_df['Survived'], \n",
    "                          normalize = 1).stack().to_frame().reset_index()\n",
    "agegroup_df = agegroup_df.rename(columns={0: 'Percentage'})\n",
    "\n",
    "# Graph \n",
    "sns.barplot(x = 'AgeGroup', y = 'Percentage', hue = 'Survived', data = agegroup_df)\n",
    "sns.axlabel('Age group', 'Percentage')\n",
    "sns.despine()"
   ]
  },
  {
   "cell_type": "markdown",
   "metadata": {
    "collapsed": true
   },
   "source": [
    "It can be seen that there are some important differences in the distributions by age among the survivors and non-survivors. The adults (between 18 and 60 years old) represent 83.72% of the casualties but close to 6.5 percentual points less of the group surviving group (77.24%). On the other hand, the children (less than 18 years old) group show the most important difference. In terms of casualties they represent 12.26% and in the surviving group, they represent 21.03%. Finally, the elderly (more than 60 years old) are 4.01% of the casualties and 1.72% of the survivors.\n",
    "\n",
    "At first sight, one can conclude that children were more likely to survive than the other groups. However, it might be interesting to see if those behaviors are also observed in the proportions of survivors and casualties by age group. It is possible that only relative to the composition of the age groups children were more likely to survive as it might occur that their survival rate was still less than 50% (meaning that they were more likely to perish than to survive). \n",
    "\n",
    "Using a very similar process than for the figure above, the proportions of casualties and survivors relative to each age group were obtained and are shown below:"
   ]
  },
  {
   "cell_type": "code",
   "execution_count": 106,
   "metadata": {
    "collapsed": false
   },
   "outputs": [
    {
     "data": {
      "image/png": "[encoded data removed]",
      "text/plain": [
       "<matplotlib.figure.Figure at 0x7f8871451350>"
      ]
     },
     "metadata": {},
     "output_type": "display_data"
    }
   ],
   "source": [
    "# Generate counts by age group dataframe to graph\n",
    "counts_df = pd.crosstab(titanic_q1_df['AgeGroup'], titanic_q1_df['Survived'], normalize = 0).stack().to_frame().reset_index()\n",
    "counts_df = counts_df.rename(columns={0: 'Count'})\n",
    "\n",
    "# Graph\n",
    "sns.barplot(x = 'AgeGroup', y = 'Count', hue = 'Survived', data = counts_df)\n",
    "sns.axlabel('Age group', 'Count')\n",
    "sns.despine()"
   ]
  },
  {
   "cell_type": "markdown",
   "metadata": {},
   "source": [
    "For the adults and elderly groups, the counts just reaffirms the idea that those groups were much more likely to perish than to survive. However, in the case of children a very different picture appears. For children it occured that "
   ]
  },
  {
   "cell_type": "code",
   "execution_count": 52,
   "metadata": {
    "collapsed": false
   },
   "outputs": [
    {
     "data": {
      "image/png": "[encoded data removed]",
      "text/plain": [
       "<matplotlib.figure.Figure at 0x7f88719fdad0>"
      ]
     },
     "metadata": {},
     "output_type": "display_data"
    }
   ],
   "source": [
    "g = sns.FacetGrid(titanic_q1_df, col = 'Survived', size = 4)\n",
    "g = (g.map(sns.plt.hist, 'Age')\n",
    "     .set_titles(\"Histogram for Survived = {col_name}\"))\n",
    "sns.despine()"
   ]
  },
  {
   "cell_type": "markdown",
   "metadata": {},
   "source": [
    "It is possible to see that the distribution looks very different. The casualties "
   ]
  },
  {
   "cell_type": "code",
   "execution_count": 34,
   "metadata": {
    "collapsed": false
   },
   "outputs": [
    {
     "name": "stdout",
     "output_type": "stream",
     "text": [
      "        Survived  Pclass  Age  SibSp  Parch  Fare\n",
      "Sex                                              \n",
      "female       197     197  197    197    197   197\n",
      "male          93      93   93     93     93    93\n",
      "        Survived  Pclass  Age  SibSp  Parch  Fare\n",
      "Sex                                              \n",
      "female        64      64   64     64     64    64\n",
      "male         360     360  360    360    360   360\n"
     ]
    },
    {
     "data": {
      "image/png": "[encoded data removed]",
      "text/plain": [
       "<matplotlib.figure.Figure at 0x7f5d463f6b10>"
      ]
     },
     "metadata": {},
     "output_type": "display_data"
    }
   ],
   "source": [
    "plot = sns.countplot(x = 'Sex', data = titanic_q1_df)\n",
    "sns.despine()\n",
    "\n",
    "titanic_surv_df = titanic_q1_df[titanic_q1_df.Survived == 1]\n",
    "titanic_nosurv_df = titanic_q1_df[titanic_q1_df.Survived == 0]\n",
    "\n",
    "print(titanic_surv_df.groupby('Sex').count())\n",
    "print(titanic_nosurv_df.groupby('Sex').count())"
   ]
  },
  {
   "cell_type": "code",
   "execution_count": null,
   "metadata": {
    "collapsed": false
   },
   "outputs": [],
   "source": []
  },
  {
   "cell_type": "markdown",
   "metadata": {},
   "source": [
    "# References\n",
    "\n",
    "* [Titanic: Machine Learning from Disaster](https://www.kaggle.com/c/titanic/data)\n",
    "\n",
    "* [Women and children first](http://www.cam.ac.uk/research/discussion/shipwrecked-women-and-children-first)\n",
    "\n"
   ]
  }
 ],
 "metadata": {
  "kernelspec": {
   "display_name": "Python [Root]",
   "language": "python",
   "name": "Python [Root]"
  },
  "language_info": {
   "codemirror_mode": {
    "name": "ipython",
    "version": 2
   },
   "file_extension": ".py",
   "mimetype": "text/x-python",
   "name": "python",
   "nbconvert_exporter": "python",
   "pygments_lexer": "ipython2",
   "version": "2.7.12"
  }
 },
 "nbformat": 4,
 "nbformat_minor": 0
}
